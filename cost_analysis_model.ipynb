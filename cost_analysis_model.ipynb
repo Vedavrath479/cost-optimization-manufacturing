{
 "cells": [
  {
   "cell_type": "markdown",
   "id": "deb2dd4b",
   "metadata": {},
   "source": [
    "# Cost Optimization in Manufacturing\n",
    "This notebook analyzes production costs and identifies opportunities for cost reduction."
   ]
  },
  {
   "cell_type": "code",
   "execution_count": null,
   "id": "1180586f",
   "metadata": {},
   "outputs": [],
   "source": [
    "import pandas as pd\n",
    "import matplotlib.pyplot as plt\n",
    "import seaborn as sns\n",
    "\n",
    "# Load data\n",
    "df = pd.read_csv('../data/production_costs.csv')\n",
    "df.head()"
   ]
  },
  {
   "cell_type": "markdown",
   "id": "4246b982",
   "metadata": {},
   "source": [
    "## Calculate Total Cost"
   ]
  },
  {
   "cell_type": "code",
   "execution_count": null,
   "id": "d9204d4d",
   "metadata": {},
   "outputs": [],
   "source": [
    "df['Total_Cost'] = df['Material_Cost'] + df['Labor_Cost'] + df['Overhead']\n",
    "df[['Batch_ID', 'Total_Cost']].head()"
   ]
  },
  {
   "cell_type": "markdown",
   "id": "e93f74db",
   "metadata": {},
   "source": [
    "## Visualize Cost Distribution"
   ]
  },
  {
   "cell_type": "code",
   "execution_count": null,
   "id": "5630124a",
   "metadata": {},
   "outputs": [],
   "source": [
    "sns.histplot(df['Total_Cost'], kde=True)\n",
    "plt.title('Distribution of Total Production Costs')\n",
    "plt.xlabel('Total Cost')\n",
    "plt.ylabel('Frequency')\n",
    "plt.show()"
   ]
  },
  {
   "cell_type": "markdown",
   "id": "29ea92e7",
   "metadata": {},
   "source": [
    "## Identify High-Cost Batches"
   ]
  },
  {
   "cell_type": "code",
   "execution_count": null,
   "id": "60bb2513",
   "metadata": {},
   "outputs": [],
   "source": [
    "high_cost = df[df['Total_Cost'] > df['Total_Cost'].quantile(0.95)]\n",
    "high_cost"
   ]
  }
 ],
 "metadata": {},
 "nbformat": 4,
 "nbformat_minor": 5
}
